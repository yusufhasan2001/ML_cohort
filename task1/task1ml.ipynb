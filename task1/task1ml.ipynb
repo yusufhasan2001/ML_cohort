{
 "cells": [
  {
   "cell_type": "code",
   "execution_count": 1,
   "id": "67fc5172",
   "metadata": {},
   "outputs": [],
   "source": [
    "import cv2\n",
    "import os"
   ]
  },
  {
   "cell_type": "code",
   "execution_count": 4,
   "id": "ae19a530",
   "metadata": {},
   "outputs": [],
   "source": [
    "def gray(folder_path): #function to convert images to grayscale\n",
    "    image = [] #for storing original images\n",
    "    imgformat = [] #for storing format of image\n",
    "    directory = \"grayscale\" #define name of folder where gray images will be saved\n",
    "    path = os.path.join(folder_path,directory) #setting path variable for grayscale folder\n",
    "    os.mkdir(path) #making the folder itself\n",
    "    for file in os.listdir(folder_path):#Iterate over all files in the folder path directory\n",
    "        img = cv2.imread(os.path.join(folder_path,file),cv2.IMREAD_GRAYSCALE) #Read the current file in grayscale mode and store it in an img object\n",
    "        if img is not None: #if it is not xml file or some other file type (that means it IS an image)\n",
    "            image.append(img) #append image to the list\n",
    "            imgformat.append(type(img)) #append the type of image to a list\n",
    "            #When you ask for the type of an NumPy object, you get the type of the container--something like numpy.ndarray. \n",
    "            #But when you ask for the dtype, you get the (numpy-managed) type of the elements.\n",
    "            os.chdir(path) #change directory to the grayscale folder\n",
    "            cv2.imwrite(f\"gray_{file}\",img) #Write the image to the grayscale folder\n",
    "    return image, imgformat "
   ]
  },
  {
   "cell_type": "code",
   "execution_count": 5,
   "id": "c85e0179",
   "metadata": {},
   "outputs": [
    {
     "name": "stdout",
     "output_type": "stream",
     "text": [
      "300\n",
      "{<class 'numpy.ndarray'>}\n"
     ]
    }
   ],
   "source": [
    "images, imgformat = gray(\"C:\\\\Users\\\\HP\\\\Documents\\\\image_dataset\")\n",
    "print(len(images))\n",
    "print(set(imgformat))"
   ]
  }
 ],
 "metadata": {
  "kernelspec": {
   "display_name": "Python 3 (ipykernel)",
   "language": "python",
   "name": "python3"
  },
  "language_info": {
   "codemirror_mode": {
    "name": "ipython",
    "version": 3
   },
   "file_extension": ".py",
   "mimetype": "text/x-python",
   "name": "python",
   "nbconvert_exporter": "python",
   "pygments_lexer": "ipython3",
   "version": "3.9.7"
  }
 },
 "nbformat": 4,
 "nbformat_minor": 5
}
